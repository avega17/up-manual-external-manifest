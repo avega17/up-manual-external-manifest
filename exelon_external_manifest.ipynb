{
 "cells": [
  {
   "cell_type": "code",
   "execution_count": 1,
   "metadata": {},
   "outputs": [],
   "source": [
    "from croniter import croniter\n",
    "from tqdm import tqdm\n",
    "from dotenv import load_dotenv\n",
    "\n",
    "import json\n",
    "import logging\n",
    "import os\n",
    "import re\n",
    "from datetime import datetime, timedelta\n",
    "import base64\n",
    "import hashlib\n",
    "from dataclasses import asdict\n",
    "\n",
    "from log import UplightLogger\n",
    "from manifest import ManifestType\n",
    "from route import Route\n",
    "from manifest_service import ManifestService\n",
    "from route import Route\n",
    "from utils import get_google_oauth_token, extract_bucket_from_path, Event\n",
    "from gcs import GCS"
   ]
  },
  {
   "cell_type": "markdown",
   "metadata": {},
   "source": [
    "# Workaround External Manifest File Generation\n",
    "\n",
    "The PubSub Cloud Scheduler job is not triggering the external manifest generation so here we will use the same codebase to generate the external manifest file and directly upload it to GCP storage. "
   ]
  },
  {
   "cell_type": "markdown",
   "metadata": {},
   "source": [
    "## Config and Defaults for exelon_comed tenant"
   ]
  },
  {
   "cell_type": "code",
   "execution_count": 2,
   "metadata": {},
   "outputs": [
    {
     "name": "stdout",
     "output_type": "stream",
     "text": [
      "fetched following file patterns: ['^customer[a-zA-Z0-9_-]*(\\\\.csv)', '^interval[a-zA-Z0-9_-]*(\\\\.csv)', '^billing[a-zA-Z0-9_-]*(\\\\.csv)']\n"
     ]
    }
   ],
   "source": [
    "load_dotenv()\n",
    "logger = UplightLogger(\"main-manual\")\n",
    "\n",
    "logger.eventName = \"manual external manifest\"\n",
    "logger.eventStep = \"Init\"\n",
    "\n",
    "# Enable GCP logging for Cloud Environment\n",
    "# UplightLogger.enable_gcp_logging()\n",
    "logger.log(\"Initiated\")\n",
    "logger.log(\"Request received for EXTERNAL MANIFEST file creation\")\n",
    "\n",
    "MANIFEST_VERSION = os.environ.get(\"manifest_version\")\n",
    "UIS_VERSION = os.environ.get(\"uis_version\")\n",
    "ENV = os.environ.get(\"env\")\n",
    "SOV = os.environ.get(\"sov\")\n",
    "\n",
    "TENANT_NAME = os.environ.get(\"tenant_name\")\n",
    "TENANT_ID = os.environ.get(\"tenant_id\")\n",
    "IN_BUCKET = f\"uplight-{TENANT_NAME}-incoming-{ENV}-{SOV}\"\n",
    "DEFAULT_DELIM = \"comma\" # comma, tab, pipe, semicolon, other\n",
    "\n",
    "manifest_routes = json.load(open(f\"manifest_{ENV}_route.json\", \"r\"))\n",
    "manifest_routes = [route for route in manifest_routes if route[\"tenant_id\"] == TENANT_ID]\n",
    "\n",
    "FILE_CONFIG = {\n",
    "    \".csv\": {\n",
    "        \"file_type\": \"csv\",\n",
    "        \"delimiter\": \"comma\"\n",
    "    },\n",
    "    \".tsv\": {\n",
    "        \"file_type\": \"tsv\",\n",
    "        \"delimiter\": \"tab\"\n",
    "    }\n",
    "}\n",
    "\n",
    "file_obj = {\n",
    "    \"filename\": \"\",\n",
    "    \"as_of_datetime\": \"\",\n",
    "    \"file_type\": \"\",\n",
    "    \"delimiter\": \"\", \n",
    "    \"md5_checksum\": \"\",\n",
    "    \"encryption_algorithm\": \"\",\n",
    "    \"compression_algorithm\": \"\",\n",
    "    \"entity_type\": \"\",\n",
    "}\n",
    "\n",
    "manifest_obj = {\n",
    "    \"metadata\": {\n",
    "        \"manifest_version\": MANIFEST_VERSION,\n",
    "        \"uis_version\": UIS_VERSION,\n",
    "    },\n",
    "    \"files\": [],\n",
    "}\n",
    "\n",
    "\n",
    "# manually set the routes to have destination_location be the same as the incoming bucket\n",
    "for route in manifest_routes:\n",
    "    route[\"destination_bucket\"] = f\"uplight-{TENANT_NAME}-unvalidated-{ENV}-{SOV}\"\n",
    "    \n",
    "source_bucket = IN_BUCKET\n",
    "gcs = GCS(oauth_token=get_google_oauth_token())\n",
    "\n",
    "\n",
    "monthly_itr = croniter(\"0 0 1 * *\", datetime.now()) # 1st of every month\n",
    "# use the previous month as the last run time to capture all files uploaded within the last month\n",
    "last_run_time = monthly_itr.get_prev(datetime)\n",
    "file_patterns = [route[\"key_pattern\"] for route in manifest_routes]\n",
    "print(f\"fetched following file patterns: {file_patterns}\")"
   ]
  },
  {
   "cell_type": "code",
   "execution_count": 3,
   "metadata": {},
   "outputs": [
    {
     "name": "stdout",
     "output_type": "stream",
     "text": [
      "Found 3 files to process in uplight-exelon-comed-incoming-dev-rotw\n",
      "Latest files: ['billing_bat-13.csv', 'customer_bat-13.csv', 'interval_bat-13.csv']\n",
      "Blob /tmp/exelon-comed_external_temp_2023-08-25 19:27:38.json has been copied to exelon-comed_external_manifest_2023-08-25 19:27:41.json\n",
      "Removing the file /tmp/exelon-comed_external_temp_2023-08-25 19:27:38.json\n"
     ]
    }
   ],
   "source": [
    "\n",
    "\n",
    "\n",
    "latest_files = gcs.get_latest_files(source_bucket, last_run_time, file_patterns)\n",
    "print(f\"Found {len(latest_files)} files to process in {source_bucket}\")\n",
    "print(f\"Latest files: {latest_files}\")\n",
    "\n",
    "req_obj = Event(bucket=source_bucket, files=latest_files,\n",
    "                event_type=\"OBJECT_FINALIZE\", batch_id=\"1234\")\n",
    "\n",
    "logger.log(\"Request \", level=logging.DEBUG, **asdict(req_obj))\n",
    "\n",
    "# manifest_routes = [ManifestService(**route, events=[]) for route in manifest_routes]\n",
    "\n",
    "route = Route(ENV)\n",
    "route.trigger(req_obj)\n",
    "\n",
    "if route.is_processed:\n",
    "    logger.log(\"Request Processed Successfully\")    \n",
    "else:\n",
    "    logger.log(f\"Route not found for {req_obj.bucket}; Skipping\", level=logging.ERROR)"
   ]
  },
  {
   "cell_type": "markdown",
   "metadata": {},
   "source": [
    "## References\n",
    "\n",
    "- [Github: Uplight/up-ds-external-manifest-handler](https://github.com/Uplight-Inc/up-ds-manifest-service)\n",
    "- [Confluence: Avangrid External Manifest Generation](https://uplightinc.atlassian.net/wiki/spaces/DS/pages/6641288612/Avangrid+External+Manifest+generation)\n",
    "- [Confluence: Manifest File Creation](https://uplightinc.atlassian.net/wiki/spaces/DS/pages/6544000926/Manifest+file+creation+WIP)\n",
    "- [Confluence: Connect Ingest Pipeline End to End](https://uplightinc.atlassian.net/wiki/spaces/PE/pages/7029752062/Connect+Ingest+Pipeline+End+to+End)\n",
    "- [Confluence: External Manifest Creation using Cloud function](https://uplightinc.atlassian.net/wiki/spaces/DS/pages/6625460269/External+Manifest+Creation+using+Cloud+function)"
   ]
  },
  {
   "cell_type": "markdown",
   "metadata": {},
   "source": []
  }
 ],
 "metadata": {
  "kernelspec": {
   "display_name": "uplight",
   "language": "python",
   "name": "python3"
  },
  "language_info": {
   "codemirror_mode": {
    "name": "ipython",
    "version": 3
   },
   "file_extension": ".py",
   "mimetype": "text/x-python",
   "name": "python",
   "nbconvert_exporter": "python",
   "pygments_lexer": "ipython3",
   "version": "3.10.12"
  },
  "orig_nbformat": 4
 },
 "nbformat": 4,
 "nbformat_minor": 2
}
